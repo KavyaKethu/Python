{
 "cells": [
  {
   "cell_type": "code",
   "execution_count": 1,
   "id": "2c8d993f-10cb-4ed1-bac2-39ad44ebfff3",
   "metadata": {},
   "outputs": [
    {
     "name": "stdout",
     "output_type": "stream",
     "text": [
      "789\n"
     ]
    }
   ],
   "source": [
    "a=789\n",
    "print(a)"
   ]
  },
  {
   "cell_type": "code",
   "execution_count": 2,
   "id": "9d84c1ef-50ec-4751-9d9e-a436250ff3df",
   "metadata": {},
   "outputs": [
    {
     "name": "stdout",
     "output_type": "stream",
     "text": [
      "7\n"
     ]
    }
   ],
   "source": [
    "b=0b111\n",
    "print(b)\n"
   ]
  },
  {
   "cell_type": "code",
   "execution_count": 3,
   "id": "7b21f364-4809-4bfc-a960-77c48c1870d2",
   "metadata": {},
   "outputs": [
    {
     "name": "stdout",
     "output_type": "stream",
     "text": [
      "87\n"
     ]
    }
   ],
   "source": [
    "c=0o127\n",
    "print(c)"
   ]
  },
  {
   "cell_type": "code",
   "execution_count": 4,
   "id": "05d20843-37e5-4c34-8e12-60fe70e2474b",
   "metadata": {},
   "outputs": [
    {
     "name": "stdout",
     "output_type": "stream",
     "text": [
      "0b1100010101\n"
     ]
    }
   ],
   "source": [
    "print(bin(a))\n"
   ]
  },
  {
   "cell_type": "code",
   "execution_count": 5,
   "id": "06af9303-4671-4304-9065-dadfb107750e",
   "metadata": {},
   "outputs": [
    {
     "name": "stdout",
     "output_type": "stream",
     "text": [
      "0b1110000000\n",
      "896\n",
      "0o1600\n",
      "0x380\n"
     ]
    }
   ],
   "source": [
    "a=896\n",
    "print(bin(a))\n",
    "print(int(a))\n",
    "print(oct(a))\n",
    "print(hex(a))"
   ]
  },
  {
   "cell_type": "code",
   "execution_count": 6,
   "id": "4a8e74e6-cb18-4457-b1e2-34470514437b",
   "metadata": {},
   "outputs": [
    {
     "name": "stdout",
     "output_type": "stream",
     "text": [
      "896\n",
      "896\n",
      "896\n",
      "896\n"
     ]
    }
   ],
   "source": [
    "a=0b1110000000\n",
    "b=896\n",
    "c=0o1600\n",
    "d=0x380\n",
    "print(a)\n",
    "print(b)\n",
    "print(c)\n",
    "print(d)"
   ]
  },
  {
   "cell_type": "code",
   "execution_count": 7,
   "id": "b4f024a7-0f77-479a-8d1f-2422ba524644",
   "metadata": {},
   "outputs": [
    {
     "name": "stdout",
     "output_type": "stream",
     "text": [
      "45000\n"
     ]
    }
   ],
   "source": [
    "esal=45000\n",
    "esal=int(esal)\n",
    "print(esal)"
   ]
  },
  {
   "cell_type": "code",
   "execution_count": 8,
   "id": "f9d48002-a45d-4343-9de9-f0a2247d749b",
   "metadata": {},
   "outputs": [
    {
     "name": "stdout",
     "output_type": "stream",
     "text": [
      "<class 'str'>\n",
      "45000\n",
      "<class 'int'>\n"
     ]
    }
   ],
   "source": [
    "esal=\"45000\"\n",
    "print(type(esal))\n",
    "\n",
    "esal=int(esal)\n",
    "print(esal)\n",
    "print(type(esal))\n"
   ]
  },
  {
   "cell_type": "code",
   "execution_count": 9,
   "id": "ab7b2b70-5c57-48c8-b967-645467dbf883",
   "metadata": {},
   "outputs": [
    {
     "name": "stdout",
     "output_type": "stream",
     "text": [
      "<class 'float'>\n",
      "45000\n",
      "<class 'int'>\n"
     ]
    }
   ],
   "source": [
    "esal=45000.45\n",
    "print(type(esal))\n",
    "\n",
    "esal=int(esal)\n",
    "print(esal)\n",
    "print(type(esal))\n",
    "\n"
   ]
  },
  {
   "cell_type": "code",
   "execution_count": 11,
   "id": "6704aa8d-822b-4308-a6a0-a053396cc370",
   "metadata": {},
   "outputs": [
    {
     "name": "stdin",
     "output_type": "stream",
     "text": [
      "Enter First Number 10\n",
      "Enter Second Number 20\n"
     ]
    },
    {
     "name": "stdout",
     "output_type": "stream",
     "text": [
      "30\n"
     ]
    }
   ],
   "source": [
    "a=int(input(\"Enter First Number\"))\n",
    "b=int(input(\"Enter Second Number\"))\n",
    "print(a+b)"
   ]
  },
  {
   "cell_type": "code",
   "execution_count": 13,
   "id": "59038ef4-95fe-4637-801d-fcdd64f6fd2d",
   "metadata": {},
   "outputs": [
    {
     "name": "stdout",
     "output_type": "stream",
     "text": [
      "HelloGood Morning\n"
     ]
    }
   ],
   "source": [
    "print(\"Hello\",end=\"\")\n",
    "print(\"Good Morning\")"
   ]
  },
  {
   "cell_type": "code",
   "execution_count": 17,
   "id": "a40471be-bcae-4d9d-995a-efafa4fc144c",
   "metadata": {},
   "outputs": [
    {
     "name": "stdout",
     "output_type": "stream",
     "text": [
      "10,20,30,\n",
      "Ends with :\n",
      "10:20:30:\n"
     ]
    }
   ],
   "source": [
    "a=10\n",
    "b=20\n",
    "c=30\n",
    "print(a,end=\",\")\n",
    "print(b,end=\",\")\n",
    "print(c,end=\",\")\n",
    "print()\n",
    "print(\"Ends with :\")\n",
    "print(a,end=\":\")\n",
    "print(b,end=\":\")\n",
    "print(c,end=\":\")\n",
    "print()"
   ]
  },
  {
   "cell_type": "code",
   "execution_count": 18,
   "id": "677265bf-e556-412e-845c-e10cd467c6f6",
   "metadata": {},
   "outputs": [
    {
     "name": "stdout",
     "output_type": "stream",
     "text": [
      "True\n"
     ]
    }
   ],
   "source": [
    "a=45\n",
    "print(bool(a))"
   ]
  },
  {
   "cell_type": "code",
   "execution_count": 19,
   "id": "201f4ec1-1e74-42a6-90a5-43fd28b9f387",
   "metadata": {},
   "outputs": [
    {
     "name": "stdout",
     "output_type": "stream",
     "text": [
      "True\n"
     ]
    }
   ],
   "source": [
    "b=\"salmaan khan\"\n",
    "print(bool(b))"
   ]
  },
  {
   "cell_type": "code",
   "execution_count": 20,
   "id": "2c4b2470-4b0c-47be-aa96-b9bc3bcd459b",
   "metadata": {},
   "outputs": [
    {
     "name": "stdout",
     "output_type": "stream",
     "text": [
      "False\n"
     ]
    }
   ],
   "source": [
    "c=0.00\n",
    "print(bool(c))"
   ]
  },
  {
   "cell_type": "code",
   "execution_count": 21,
   "id": "036fa263-7b40-4373-aaeb-b850f22c9ccc",
   "metadata": {},
   "outputs": [
    {
     "name": "stdout",
     "output_type": "stream",
     "text": [
      "True\n"
     ]
    }
   ],
   "source": [
    "d=0.001\n",
    "print(bool(d))"
   ]
  },
  {
   "cell_type": "markdown",
   "id": "cc54f44a-e527-4672-a64d-957dd9c7e065",
   "metadata": {},
   "source": [
    "c=10+9j\n",
    "print(bool(c))\n"
   ]
  },
  {
   "cell_type": "code",
   "execution_count": null,
   "id": "61019a4d-fdc9-4dc6-b8d2-cb9e9a78ef49",
   "metadata": {},
   "outputs": [],
   "source": []
  }
 ],
 "metadata": {
  "kernelspec": {
   "display_name": "Python 3 (ipykernel)",
   "language": "python",
   "name": "python3"
  },
  "language_info": {
   "codemirror_mode": {
    "name": "ipython",
    "version": 3
   },
   "file_extension": ".py",
   "mimetype": "text/x-python",
   "name": "python",
   "nbconvert_exporter": "python",
   "pygments_lexer": "ipython3",
   "version": "3.12.5"
  }
 },
 "nbformat": 4,
 "nbformat_minor": 5
}
