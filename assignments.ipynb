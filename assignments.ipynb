{
 "cells": [
  {
   "cell_type": "code",
   "execution_count": 2,
   "id": "4fe3d4f7-39ff-4532-bdd5-44c58a4572db",
   "metadata": {},
   "outputs": [
    {
     "name": "stdout",
     "output_type": "stream",
     "text": [
      "1\n",
      "2\n",
      "3\n",
      "4\n",
      "5\n",
      "6\n",
      "7\n",
      "8\n",
      "9\n",
      "10\n"
     ]
    }
   ],
   "source": [
    "#print 1 to 10\n",
    "for i in range(1,11,1):\n",
    "    print(i)"
   ]
  },
  {
   "cell_type": "code",
   "execution_count": 1,
   "id": "ad7f6081-984f-4ee5-97a0-b41a23664684",
   "metadata": {},
   "outputs": [
    {
     "name": "stdout",
     "output_type": "stream",
     "text": [
      "1 2 3 4 5 6 7 8 9 10 11 12 13 14 15 16 17 18 19 20 21 22 23 24 25 26 27 28 29 30 31 32 33 34 35 36 37 38 39 40 41 42 43 44 45 46 47 48 49 50 51 52 53 54 55 56 57 58 59 60 61 62 63 64 65 66 67 68 69 70 71 72 73 74 75 76 77 78 79 80 81 82 83 84 85 86 87 88 89 90 91 92 93 94 95 96 97 98 99 100 "
     ]
    }
   ],
   "source": [
    "#print 1.. to 100\n",
    "for i in range(1,101,1):\n",
    "    print(i,end=\" \")\n",
    "    "
   ]
  },
  {
   "cell_type": "code",
   "execution_count": 3,
   "id": "68ab2829-c5ac-423f-ad3c-f1b1e465c2b0",
   "metadata": {},
   "outputs": [
    {
     "name": "stdout",
     "output_type": "stream",
     "text": [
      "5 6 7 8 9 10 11 12 13 14 15 16 17 18 19 20 21 22 23 24 25 26 27 28 29 30 31 32 33 34 35 36 37 38 39 40 41 42 43 44 45 46 47 48 49 50 "
     ]
    }
   ],
   "source": [
    "#print 5.. to 50\n",
    "for i in range(5,51,1):\n",
    "    print(i,end=\" \")"
   ]
  },
  {
   "cell_type": "code",
   "execution_count": 4,
   "id": "3cc437dc-a910-4f1e-9c34-2c6abf82bd03",
   "metadata": {},
   "outputs": [
    {
     "name": "stdout",
     "output_type": "stream",
     "text": [
      "100 99 98 97 96 95 94 93 92 91 90 89 88 87 86 85 84 83 82 81 80 79 78 77 76 75 74 73 72 71 70 69 68 67 66 65 64 63 62 61 60 59 58 57 56 55 54 53 52 51 "
     ]
    }
   ],
   "source": [
    "#print 100...to 51\n",
    "for i in range(100,50,-1):\n",
    "    print(i,end=\" \")"
   ]
  },
  {
   "cell_type": "code",
   "execution_count": 9,
   "id": "ddb2ef61-893b-42ab-adf2-fbae47a5872b",
   "metadata": {},
   "outputs": [
    {
     "name": "stdout",
     "output_type": "stream",
     "text": [
      "5* 1 = 5\n",
      "5* 2 = 10\n",
      "5* 3 = 15\n",
      "5* 4 = 20\n",
      "5* 5 = 25\n",
      "5* 6 = 30\n",
      "5* 7 = 35\n",
      "5* 8 = 40\n",
      "5* 9 = 45\n",
      "5* 10 = 50\n"
     ]
    }
   ],
   "source": [
    "#print 5 table\n",
    "for i in range(1,11,1):\n",
    "    print(\"5*\",i,\"=\",i*5)"
   ]
  },
  {
   "cell_type": "code",
   "execution_count": 13,
   "id": "bf56da37-6df7-48ae-a310-5b8fe422d3d1",
   "metadata": {},
   "outputs": [
    {
     "name": "stdin",
     "output_type": "stream",
     "text": [
      "Enter first number: 6\n",
      "Enter second number: 7\n"
     ]
    },
    {
     "name": "stdout",
     "output_type": "stream",
     "text": [
      "13\n"
     ]
    },
    {
     "name": "stdin",
     "output_type": "stream",
     "text": [
      "Enter first number: 45.6\n",
      "Enter second number: 67\n"
     ]
    },
    {
     "name": "stdout",
     "output_type": "stream",
     "text": [
      "112.6\n"
     ]
    }
   ],
   "source": [
    "#Write a program to read 2 numbers from the keyboard and print sum?\n",
    "a=int(input(\"Enter first number:\"))\n",
    "b=int(input(\"Enter second number:\")) \n",
    "print(a+b)\n",
    "a=float(input(\"Enter first number:\"))\n",
    "b=float(input(\"Enter second number:\"))\n",
    "print(a+b)"
   ]
  },
  {
   "cell_type": "code",
   "execution_count": 23,
   "id": "7663336c-82f1-4536-8f2d-0f9093860613",
   "metadata": {},
   "outputs": [
    {
     "name": "stdin",
     "output_type": "stream",
     "text": [
      "Enter numbers separated by space:  5\n"
     ]
    },
    {
     "name": "stdout",
     "output_type": "stream",
     "text": [
      "You entered: [5.0]\n"
     ]
    }
   ],
   "source": [
    "#How to read multiple values from the keyboard in a single line?\n",
    "numbers = input(\"Enter numbers separated by space: \").split()\n",
    "\n",
    "# Convert the input strings to integers or floats\n",
    "numbers = [float(num) for num in numbers]\n",
    "\n",
    "# Print the numbers\n",
    "print(\"You entered:\", numbers)\n"
   ]
  },
  {
   "cell_type": "code",
   "execution_count": 24,
   "id": "aaf68172-3d02-4ff1-bd5e-568316aeebde",
   "metadata": {},
   "outputs": [
    {
     "name": "stdin",
     "output_type": "stream",
     "text": [
      "Enter a number:  35\n"
     ]
    },
    {
     "name": "stdout",
     "output_type": "stream",
     "text": [
      "number is divisible by 7\n"
     ]
    }
   ],
   "source": [
    "#Program to check if a number is divisible by 7 or not?\n",
    "\n",
    "number = int(input(\"Enter a number: \"))\n",
    "\n",
    "# Check if the number is divisible by 7\n",
    "if number % 7 == 0:\n",
    "    print(f\"number is divisible by 7\")\n",
    "else:\n",
    "    print(f\"number is not divisible by 7\")"
   ]
  },
  {
   "cell_type": "code",
   "execution_count": 25,
   "id": "4ac4f641-fe2b-49f9-be73-782856f4134d",
   "metadata": {},
   "outputs": [
    {
     "name": "stdin",
     "output_type": "stream",
     "text": [
      "Enter a number:  15\n"
     ]
    },
    {
     "name": "stdout",
     "output_type": "stream",
     "text": [
      "number is a multiple of 3\n"
     ]
    }
   ],
   "source": [
    "#Program to check if a number is multiple of 3 not not?\n",
    "number = int(input(\"Enter a number: \"))\n",
    "\n",
    "# Check if the number is a multiple of 3\n",
    "if number % 3 == 0:\n",
    "    print(f\"number is a multiple of 3\")\n",
    "else:\n",
    "    print(f\"number is not a multiple of 3\")\n"
   ]
  },
  {
   "cell_type": "code",
   "execution_count": 26,
   "id": "78a4d1ff-142f-4a16-8582-5f9cea877fdf",
   "metadata": {},
   "outputs": [
    {
     "name": "stdin",
     "output_type": "stream",
     "text": [
      "Enter a number:  7\n"
     ]
    },
    {
     "name": "stdout",
     "output_type": "stream",
     "text": [
      "this number is a positive number.\n"
     ]
    }
   ],
   "source": [
    "#Program to check if a number is positive or not?\n",
    "number = float(input(\"Enter a number: \"))\n",
    "\n",
    "# Check if the number is positive\n",
    "if number > 0:\n",
    "    print(f\"this number is a positive number.\")\n",
    "elif number == 0:\n",
    "    print(f\"The number is zero.\")\n",
    "else:\n",
    "    print(f\" this number is not a positive number.\")\n"
   ]
  },
  {
   "cell_type": "code",
   "execution_count": 27,
   "id": "f48000c4-9eaf-41da-9526-161681c7872d",
   "metadata": {},
   "outputs": [
    {
     "name": "stdin",
     "output_type": "stream",
     "text": [
      "Enter a single digit number (0-9):  1\n"
     ]
    },
    {
     "name": "stdout",
     "output_type": "stream",
     "text": [
      "One\n"
     ]
    }
   ],
   "source": [
    "#6.\tWrite a program to take a single digit number from the keyboard and print in english?\n",
    "digit = int(input(\"Enter a single digit number (0-9): \"))\n",
    "if digit == 0:\n",
    "    print(\"Zero\")\n",
    "elif digit == 1:\n",
    "    print(\"One\")\n",
    "elif digit == 2:\n",
    "    print(\"Two\")\n",
    "elif digit == 3:\n",
    "    print(\"Three\")\n",
    "elif digit == 4:\n",
    "    print(\"Four\")\n",
    "elif digit == 5:\n",
    "    print(\"Five\")\n",
    "elif digit == 6:\n",
    "    print(\"Six\")\n",
    "elif digit == 7:\n",
    "    print(\"Seven\")\n",
    "elif digit == 8:\n",
    "    print(\"Eight\")\n",
    "elif digit == 9:\n",
    "    print(\"Nine\")\n",
    "else:\n",
    "    print(\"Please enter a valid single digit number (0-9).\")\n"
   ]
  },
  {
   "cell_type": "code",
   "execution_count": null,
   "id": "ff7f0833-1969-4e3a-91b5-b0b01e20f9a2",
   "metadata": {},
   "outputs": [],
   "source": []
  }
 ],
 "metadata": {
  "kernelspec": {
   "display_name": "Python 3 (ipykernel)",
   "language": "python",
   "name": "python3"
  },
  "language_info": {
   "codemirror_mode": {
    "name": "ipython",
    "version": 3
   },
   "file_extension": ".py",
   "mimetype": "text/x-python",
   "name": "python",
   "nbconvert_exporter": "python",
   "pygments_lexer": "ipython3",
   "version": "3.12.5"
  }
 },
 "nbformat": 4,
 "nbformat_minor": 5
}
